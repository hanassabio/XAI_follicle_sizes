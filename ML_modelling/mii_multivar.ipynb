{
 "cells": [
  {
   "cell_type": "code",
   "execution_count": 14,
   "metadata": {
    "id": "z1WUNkwevZp2",
    "ExecuteTime": {
     "start_time": "2024-06-12T19:32:59.146622Z",
     "end_time": "2024-06-12T19:32:59.611950Z"
    }
   },
   "outputs": [],
   "source": [
    "import pandas as pd\n",
    "import numpy as np\n",
    "np.int = int\n",
    "np.bool = bool\n",
    "\n",
    "from sklearn.metrics import median_absolute_error\n",
    "from sklearn.inspection import permutation_importance\n",
    "from sklearn.model_selection import LeaveOneGroupOut\n",
    "from sklearn.metrics import mean_absolute_error, max_error, mean_absolute_percentage_error, mean_squared_error, r2_score\n",
    "from skopt import BayesSearchCV\n",
    "from sklearn.preprocessing import OrdinalEncoder\n",
    "from sklearn.compose import make_column_selector, make_column_transformer\n",
    "from sklearn.ensemble import HistGradientBoostingRegressor\n",
    "from sklearn.pipeline import Pipeline"
   ]
  },
  {
   "cell_type": "code",
   "execution_count": 2,
   "metadata": {
    "id": "P9R9QMSevsWV",
    "ExecuteTime": {
     "start_time": "2024-06-12T19:36:20.015204Z",
     "end_time": "2024-06-12T19:36:21.514834Z"
    }
   },
   "outputs": [
    {
     "name": "stdout",
     "output_type": "stream",
     "text": [
      "(550, 139)\n"
     ]
    }
   ],
   "source": [
    "\n",
    "scans=pd.read_excel(\"../dummy_data.xlsx\")\n",
    "print(scans.shape)"
   ]
  },
  {
   "cell_type": "code",
   "execution_count": 3,
   "outputs": [],
   "source": [
    "carbon = scans.copy()\n",
    "carbon['protocol_map'] = carbon['protocol_map'].str.upper()"
   ],
   "metadata": {
    "collapsed": false,
    "ExecuteTime": {
     "start_time": "2024-06-12T19:52:27.282714Z",
     "end_time": "2024-06-12T19:52:27.333159Z"
    }
   }
  },
  {
   "cell_type": "code",
   "execution_count": 5,
   "outputs": [],
   "source": [
    "#clear missing data\n",
    "carbon['Age at Egg Collection'] = carbon['Age at Egg Collection'].replace(-100, np.nan)\n",
    "carbon['Age at Egg Collection'] = round(carbon['Age at Egg Collection'],0)\n",
    "carbon['BMI'] = np.where((carbon['BMI'] < 18) | (carbon['BMI'] > 50), np.nan, carbon['BMI'])\n",
    "carbon['trigger_map'] = carbon['trigger_map'].replace('NONE', np.nan)\n",
    "carbon['protocol_map'] = carbon['protocol_map'].replace('NONE', np.nan)\n",
    "carbon['days to trig'] = carbon['days to trig'].apply(lambda x: x if 5<=x<=30 else np.nan)"
   ],
   "metadata": {
    "collapsed": false
   }
  },
  {
   "cell_type": "code",
   "execution_count": 6,
   "outputs": [],
   "source": [
    "mat_scans = carbon[carbon['No. Mature Eggs']>-1]"
   ],
   "metadata": {
    "collapsed": false,
    "ExecuteTime": {
     "start_time": "2024-06-12T19:52:32.099315Z",
     "end_time": "2024-06-12T19:52:32.106071Z"
    }
   }
  },
  {
   "cell_type": "code",
   "execution_count": 7,
   "outputs": [
    {
     "name": "stdout",
     "output_type": "stream",
     "text": [
      "(550, 139)\n"
     ]
    }
   ],
   "source": [
    "mat_scans = mat_scans[~(pd.isna(mat_scans['DoT Follicles']))]\n",
    "\n",
    "print(mat_scans.shape)"
   ],
   "metadata": {
    "collapsed": false,
    "ExecuteTime": {
     "start_time": "2024-01-24T23:46:57.916025Z",
     "end_time": "2024-01-24T23:46:57.941719Z"
    }
   }
  },
  {
   "cell_type": "code",
   "execution_count": 9,
   "outputs": [
    {
     "name": "stdout",
     "output_type": "stream",
     "text": [
      "(550, 29)\n"
     ]
    }
   ],
   "source": [
    "\n",
    "mat_scans = mat_scans[['6_mm', '7_mm', '8_mm', '9_mm','10_mm','11_mm','12_mm','13_mm','14_mm','15_mm','16_mm','17_mm','18_mm','19_mm','20_mm','21_mm','22_mm','23_mm','24_mm','25_mm','26_mm','Age at Egg Collection','BMI', 'days to trig', 'trigger_map', 'protocol_map', 'e2_dot', 'No. Mature Eggs', 'Clinic']].dropna()\n",
    "print(mat_scans.shape)\n"
   ],
   "metadata": {
    "collapsed": false,
    "ExecuteTime": {
     "start_time": "2024-06-12T19:52:36.241016Z",
     "end_time": "2024-06-12T19:52:36.252123Z"
    }
   }
  },
  {
   "cell_type": "code",
   "execution_count": 10,
   "outputs": [],
   "source": [
    "X = mat_scans[['6_mm', '7_mm', '8_mm', '9_mm','10_mm','11_mm','12_mm','13_mm','14_mm','15_mm','16_mm','17_mm','18_mm','19_mm','20_mm','21_mm','22_mm','23_mm','24_mm','25_mm','26_mm','Age at Egg Collection','BMI', 'days to trig', 'trigger_map', 'protocol_map', 'e2_dot']]\n",
    "\n",
    "y = mat_scans[['No. Mature Eggs']]\n",
    "\n",
    "y=y.values.ravel()\n",
    "\n",
    "y = np.log(y+1)\n",
    "\n",
    "by_clinic = mat_scans['Clinic']\n",
    "by_clinic = by_clinic.values.ravel()"
   ],
   "metadata": {
    "collapsed": false,
    "ExecuteTime": {
     "start_time": "2024-06-12T22:11:36.119548Z",
     "end_time": "2024-06-12T22:11:36.166926Z"
    }
   }
  },
  {
   "cell_type": "code",
   "execution_count": 31,
   "outputs": [
    {
     "data": {
      "text/plain": "(550, 27)"
     },
     "execution_count": 31,
     "metadata": {},
     "output_type": "execute_result"
    }
   ],
   "source": [
    "X.shape"
   ],
   "metadata": {
    "collapsed": false,
    "ExecuteTime": {
     "start_time": "2024-06-12T22:11:38.778802Z",
     "end_time": "2024-06-12T22:11:38.786274Z"
    }
   }
  },
  {
   "cell_type": "code",
   "execution_count": 32,
   "outputs": [
    {
     "data": {
      "text/plain": "(550,)"
     },
     "execution_count": 32,
     "metadata": {},
     "output_type": "execute_result"
    }
   ],
   "source": [
    "y.shape"
   ],
   "metadata": {
    "collapsed": false,
    "ExecuteTime": {
     "start_time": "2024-01-19T00:21:53.952745Z",
     "end_time": "2024-01-19T00:21:53.980618Z"
    }
   }
  },
  {
   "cell_type": "code",
   "execution_count": 33,
   "outputs": [
    {
     "data": {
      "text/plain": "(550,)"
     },
     "execution_count": 33,
     "metadata": {},
     "output_type": "execute_result"
    }
   ],
   "source": [
    "by_clinic.shape"
   ],
   "metadata": {
    "collapsed": false,
    "ExecuteTime": {
     "start_time": "2024-01-19T00:21:55.587741Z",
     "end_time": "2024-01-19T00:21:55.643043Z"
    }
   }
  },
  {
   "cell_type": "code",
   "execution_count": 15,
   "outputs": [],
   "source": [
    "\n",
    "param_grid_2 = {\n",
    "    'model__max_iter': (5, 10),\n",
    "    'model__learning_rate': (0.0001,0.1),\n",
    "    'model__l2_regularization': (0.0, 1.0),\n",
    "    'model__min_samples_leaf': (5, 20),\n",
    "    'model__loss': ('squared_error','absolute_error','poisson')\n",
    "}\n",
    "\n",
    "outer_cv = LeaveOneGroupOut()\n",
    "outer_cv.get_n_splits(X,y,by_clinic)\n",
    "splits = outer_cv.get_n_splits(groups=by_clinic)\n",
    "\n",
    "# Initialize arrays to store the results\n",
    "outer_scores = []\n",
    "outer_scores_2 = []\n",
    "best_params_list_2 = pd.DataFrame(index=param_grid_2)\n",
    "inner_results_2 = []\n",
    "df_perm_importance_2 = pd.DataFrame(index=X.columns)\n",
    "\n",
    "y_pred_all = []\n"
   ],
   "metadata": {
    "collapsed": false,
    "ExecuteTime": {
     "start_time": "2024-06-12T22:11:42.369144Z",
     "end_time": "2024-06-12T22:11:42.374809Z"
    }
   }
  },
  {
   "cell_type": "code",
   "execution_count": 16,
   "outputs": [],
   "source": [
    "\n",
    "\n",
    "categorical_features=['trigger_map', 'protocol_map']\n",
    "\n",
    "\n",
    "ordinal_encoder = make_column_transformer(\n",
    "    (\n",
    "        OrdinalEncoder(handle_unknown=\"use_encoded_value\", unknown_value=np.nan, encoded_missing_value=np.nan),\n",
    "\n",
    "        make_column_selector(dtype_include=[\"category\", \"object\"]),\n",
    "    ),\n",
    "    remainder=\"passthrough\",\n",
    "    verbose_feature_names_out=True,\n",
    ")\n"
   ],
   "metadata": {
    "collapsed": false,
    "ExecuteTime": {
     "start_time": "2024-06-12T20:22:59.950008Z",
     "end_time": "2024-06-12T20:23:00.071607Z"
    }
   }
  },
  {
   "cell_type": "code",
   "execution_count": 17,
   "outputs": [
    {
     "name": "stdout",
     "output_type": "stream",
     "text": [
      "(500, 27)\n",
      "(500,)\n",
      "Fitting 10 folds for each of 5 candidates, totalling 50 fits\n",
      "Fitting 10 folds for each of 5 candidates, totalling 50 fits\n"
     ]
    },
    {
     "name": "stderr",
     "output_type": "stream",
     "text": [
      "C:\\Users\\sh2316\\OneDrive - Imperial College London\\PhD\\TFP_Follicle_Sizes\\venv\\Lib\\site-packages\\skopt\\optimizer\\optimizer.py:449: UserWarning: The objective has been evaluated at this point before.\n",
      "  warnings.warn(\"The objective has been evaluated \"\n"
     ]
    },
    {
     "name": "stdout",
     "output_type": "stream",
     "text": [
      "Fitting 10 folds for each of 5 candidates, totalling 50 fits\n",
      "Fitting 10 folds for each of 5 candidates, totalling 50 fits\n",
      "Fitting 10 folds for each of 5 candidates, totalling 50 fits\n",
      "Fitting 10 folds for each of 5 candidates, totalling 50 fits\n",
      "best inner score_20: -0.42573636026375095\n",
      "mae_0 3.7086725291901286\n",
      "(500, 27)\n",
      "(500,)\n",
      "Fitting 10 folds for each of 5 candidates, totalling 50 fits\n",
      "Fitting 10 folds for each of 5 candidates, totalling 50 fits\n",
      "Fitting 10 folds for each of 5 candidates, totalling 50 fits\n",
      "Fitting 10 folds for each of 5 candidates, totalling 50 fits\n"
     ]
    },
    {
     "name": "stderr",
     "output_type": "stream",
     "text": [
      "C:\\Users\\sh2316\\OneDrive - Imperial College London\\PhD\\TFP_Follicle_Sizes\\venv\\Lib\\site-packages\\skopt\\optimizer\\optimizer.py:449: UserWarning: The objective has been evaluated at this point before.\n",
      "  warnings.warn(\"The objective has been evaluated \"\n",
      "C:\\Users\\sh2316\\OneDrive - Imperial College London\\PhD\\TFP_Follicle_Sizes\\venv\\Lib\\site-packages\\skopt\\optimizer\\optimizer.py:449: UserWarning: The objective has been evaluated at this point before.\n",
      "  warnings.warn(\"The objective has been evaluated \"\n"
     ]
    },
    {
     "name": "stdout",
     "output_type": "stream",
     "text": [
      "Fitting 10 folds for each of 5 candidates, totalling 50 fits\n"
     ]
    },
    {
     "name": "stderr",
     "output_type": "stream",
     "text": [
      "C:\\Users\\sh2316\\OneDrive - Imperial College London\\PhD\\TFP_Follicle_Sizes\\venv\\Lib\\site-packages\\skopt\\optimizer\\optimizer.py:449: UserWarning: The objective has been evaluated at this point before.\n",
      "  warnings.warn(\"The objective has been evaluated \"\n"
     ]
    },
    {
     "name": "stdout",
     "output_type": "stream",
     "text": [
      "Fitting 10 folds for each of 5 candidates, totalling 50 fits\n",
      "best inner score_21: -0.42770195457329424\n",
      "mae_1 2.9923845121763804\n",
      "(500, 27)\n",
      "(500,)\n",
      "Fitting 10 folds for each of 5 candidates, totalling 50 fits\n",
      "Fitting 10 folds for each of 5 candidates, totalling 50 fits\n",
      "Fitting 10 folds for each of 5 candidates, totalling 50 fits\n",
      "Fitting 10 folds for each of 5 candidates, totalling 50 fits\n"
     ]
    },
    {
     "name": "stderr",
     "output_type": "stream",
     "text": [
      "C:\\Users\\sh2316\\OneDrive - Imperial College London\\PhD\\TFP_Follicle_Sizes\\venv\\Lib\\site-packages\\skopt\\optimizer\\optimizer.py:449: UserWarning: The objective has been evaluated at this point before.\n",
      "  warnings.warn(\"The objective has been evaluated \"\n",
      "C:\\Users\\sh2316\\OneDrive - Imperial College London\\PhD\\TFP_Follicle_Sizes\\venv\\Lib\\site-packages\\skopt\\optimizer\\optimizer.py:449: UserWarning: The objective has been evaluated at this point before.\n",
      "  warnings.warn(\"The objective has been evaluated \"\n"
     ]
    },
    {
     "name": "stdout",
     "output_type": "stream",
     "text": [
      "Fitting 10 folds for each of 5 candidates, totalling 50 fits\n",
      "Fitting 10 folds for each of 5 candidates, totalling 50 fits\n",
      "best inner score_22: -0.4130895384472987\n",
      "mae_2 3.1340033050901974\n",
      "(500, 27)\n",
      "(500,)\n",
      "Fitting 10 folds for each of 5 candidates, totalling 50 fits\n",
      "Fitting 10 folds for each of 5 candidates, totalling 50 fits\n",
      "Fitting 10 folds for each of 5 candidates, totalling 50 fits\n",
      "Fitting 10 folds for each of 5 candidates, totalling 50 fits\n",
      "Fitting 10 folds for each of 5 candidates, totalling 50 fits\n",
      "Fitting 10 folds for each of 5 candidates, totalling 50 fits\n",
      "best inner score_23: -0.4316571469981347\n",
      "mae_3 2.2407133790567393\n",
      "(500, 27)\n",
      "(500,)\n",
      "Fitting 10 folds for each of 5 candidates, totalling 50 fits\n",
      "Fitting 10 folds for each of 5 candidates, totalling 50 fits\n",
      "Fitting 10 folds for each of 5 candidates, totalling 50 fits\n",
      "Fitting 10 folds for each of 5 candidates, totalling 50 fits\n",
      "Fitting 10 folds for each of 5 candidates, totalling 50 fits\n",
      "Fitting 10 folds for each of 5 candidates, totalling 50 fits\n",
      "best inner score_24: -0.41247164350356014\n",
      "mae_4 3.371915117109478\n",
      "(500, 27)\n",
      "(500,)\n",
      "Fitting 10 folds for each of 5 candidates, totalling 50 fits\n",
      "Fitting 10 folds for each of 5 candidates, totalling 50 fits\n",
      "Fitting 10 folds for each of 5 candidates, totalling 50 fits\n",
      "Fitting 10 folds for each of 5 candidates, totalling 50 fits\n"
     ]
    },
    {
     "name": "stderr",
     "output_type": "stream",
     "text": [
      "C:\\Users\\sh2316\\OneDrive - Imperial College London\\PhD\\TFP_Follicle_Sizes\\venv\\Lib\\site-packages\\skopt\\optimizer\\optimizer.py:449: UserWarning: The objective has been evaluated at this point before.\n",
      "  warnings.warn(\"The objective has been evaluated \"\n",
      "C:\\Users\\sh2316\\OneDrive - Imperial College London\\PhD\\TFP_Follicle_Sizes\\venv\\Lib\\site-packages\\skopt\\optimizer\\optimizer.py:449: UserWarning: The objective has been evaluated at this point before.\n",
      "  warnings.warn(\"The objective has been evaluated \"\n"
     ]
    },
    {
     "name": "stdout",
     "output_type": "stream",
     "text": [
      "Fitting 10 folds for each of 5 candidates, totalling 50 fits\n",
      "Fitting 10 folds for each of 5 candidates, totalling 50 fits\n",
      "best inner score_25: -0.42962135194865486\n",
      "mae_5 2.4889683046642626\n",
      "(500, 27)\n",
      "(500,)\n",
      "Fitting 10 folds for each of 5 candidates, totalling 50 fits\n",
      "Fitting 10 folds for each of 5 candidates, totalling 50 fits\n",
      "Fitting 10 folds for each of 5 candidates, totalling 50 fits\n",
      "Fitting 10 folds for each of 5 candidates, totalling 50 fits\n",
      "Fitting 10 folds for each of 5 candidates, totalling 50 fits\n",
      "Fitting 10 folds for each of 5 candidates, totalling 50 fits\n",
      "best inner score_26: -0.422283779194483\n",
      "mae_6 3.053174741619612\n",
      "(500, 27)\n",
      "(500,)\n",
      "Fitting 10 folds for each of 5 candidates, totalling 50 fits\n",
      "Fitting 10 folds for each of 5 candidates, totalling 50 fits\n",
      "Fitting 10 folds for each of 5 candidates, totalling 50 fits\n",
      "Fitting 10 folds for each of 5 candidates, totalling 50 fits\n",
      "Fitting 10 folds for each of 5 candidates, totalling 50 fits\n"
     ]
    },
    {
     "name": "stderr",
     "output_type": "stream",
     "text": [
      "C:\\Users\\sh2316\\OneDrive - Imperial College London\\PhD\\TFP_Follicle_Sizes\\venv\\Lib\\site-packages\\skopt\\optimizer\\optimizer.py:449: UserWarning: The objective has been evaluated at this point before.\n",
      "  warnings.warn(\"The objective has been evaluated \"\n"
     ]
    },
    {
     "name": "stdout",
     "output_type": "stream",
     "text": [
      "Fitting 10 folds for each of 5 candidates, totalling 50 fits\n",
      "best inner score_27: -0.422480733658373\n",
      "mae_7 2.822182657907248\n",
      "(500, 27)\n",
      "(500,)\n",
      "Fitting 10 folds for each of 5 candidates, totalling 50 fits\n",
      "Fitting 10 folds for each of 5 candidates, totalling 50 fits\n",
      "Fitting 10 folds for each of 5 candidates, totalling 50 fits\n",
      "Fitting 10 folds for each of 5 candidates, totalling 50 fits\n",
      "Fitting 10 folds for each of 5 candidates, totalling 50 fits\n",
      "Fitting 10 folds for each of 5 candidates, totalling 50 fits\n",
      "best inner score_28: -0.4316673999300054\n",
      "mae_8 2.8722384428510397\n",
      "(500, 27)\n",
      "(500,)\n",
      "Fitting 10 folds for each of 5 candidates, totalling 50 fits\n",
      "Fitting 10 folds for each of 5 candidates, totalling 50 fits\n",
      "Fitting 10 folds for each of 5 candidates, totalling 50 fits\n",
      "Fitting 10 folds for each of 5 candidates, totalling 50 fits\n",
      "Fitting 10 folds for each of 5 candidates, totalling 50 fits\n",
      "Fitting 10 folds for each of 5 candidates, totalling 50 fits\n",
      "best inner score_29: -0.42533521816220876\n",
      "mae_9 2.673063643678505\n",
      "(500, 27)\n",
      "(500,)\n",
      "Fitting 10 folds for each of 5 candidates, totalling 50 fits\n",
      "Fitting 10 folds for each of 5 candidates, totalling 50 fits\n",
      "Fitting 10 folds for each of 5 candidates, totalling 50 fits\n",
      "Fitting 10 folds for each of 5 candidates, totalling 50 fits\n",
      "Fitting 10 folds for each of 5 candidates, totalling 50 fits\n"
     ]
    },
    {
     "name": "stderr",
     "output_type": "stream",
     "text": [
      "C:\\Users\\sh2316\\OneDrive - Imperial College London\\PhD\\TFP_Follicle_Sizes\\venv\\Lib\\site-packages\\skopt\\optimizer\\optimizer.py:449: UserWarning: The objective has been evaluated at this point before.\n",
      "  warnings.warn(\"The objective has been evaluated \"\n",
      "C:\\Users\\sh2316\\OneDrive - Imperial College London\\PhD\\TFP_Follicle_Sizes\\venv\\Lib\\site-packages\\skopt\\optimizer\\optimizer.py:449: UserWarning: The objective has been evaluated at this point before.\n",
      "  warnings.warn(\"The objective has been evaluated \"\n"
     ]
    },
    {
     "name": "stdout",
     "output_type": "stream",
     "text": [
      "Fitting 10 folds for each of 5 candidates, totalling 50 fits\n",
      "best inner score_210: -0.42552386059150604\n",
      "mae_10 2.5063685208748883\n",
      "development done\n",
      "MAE Mean: 2.8967\n",
      "MAE Standard Deviation: 0.4023\n",
      "R2 Mean: 0.0915\n",
      "R2 Standard Deviation: 0.1038\n",
      "Files saved to: MII\n"
     ]
    }
   ],
   "source": [
    "\n",
    "# Perform nested cross-validation\n",
    "for i, (train_index, test_index) in enumerate(outer_cv.split(X, y, by_clinic)):\n",
    "    # Check the indices\n",
    "    X_train, X_test = X.iloc[train_index], X.iloc[test_index]\n",
    "    y_train, y_test = y[train_index], y[test_index]\n",
    "    clinic_train, clinic_test = by_clinic[train_index], by_clinic[test_index]\n",
    "\n",
    "    print(X_train.shape)\n",
    "    print(y_train.shape)\n",
    "\n",
    "    inner_cv = LeaveOneGroupOut()\n",
    "\n",
    "\n",
    "    #generate encoder based on HHistGradientBoostingRegressor model\n",
    "    cat_bool=['ordinalencoder__protocol_map', 'ordinalencoder__trigger_map']\n",
    "\n",
    "    hist_native = Pipeline(steps=[('preproc', ordinal_encoder),('model', HistGradientBoostingRegressor(categorical_features=cat_bool))\n",
    "\n",
    "    ]).set_output(transform=\"pandas\")\n",
    "\n",
    "    bayes_opt_2 = BayesSearchCV(\n",
    "                    estimator=hist_native,\n",
    "                    search_spaces=param_grid_2,\n",
    "                    n_iter=30,\n",
    "                    n_points=5,\n",
    "                    scoring='neg_mean_absolute_error',\n",
    "                    cv=inner_cv,\n",
    "                    n_jobs=-1,\n",
    "                    refit=True,\n",
    "                    verbose=1,\n",
    "                    return_train_score=True\n",
    "                    )\n",
    "    bayes_opt_2.fit(X=X_train, y=y_train, groups=clinic_train)\n",
    "\n",
    "    # Get the best parameters and the corresponding model\n",
    "    best_params_2 = bayes_opt_2.best_params_\n",
    "    best_model_2 = bayes_opt_2.best_estimator_\n",
    "    # Store the best parameters\n",
    "    best_params_list_2[f'best_params_run_{i}'] = best_params_2\n",
    "    print(f\"best inner score_2{i}:\", bayes_opt_2.best_score_)\n",
    "\n",
    "    inner_results_2.append(pd.DataFrame(bayes_opt_2.cv_results_))\n",
    "\n",
    "    y_pred = best_model_2.predict(X_test)\n",
    "\n",
    "    y_pred = np.exp(y_pred) - 1\n",
    "\n",
    "    y_test = np.exp(y_test) - 1\n",
    "\n",
    "    mae= mean_absolute_error(y_test, y_pred)\n",
    "    print(f'mae_{i}', mae)\n",
    "    r2= r2_score(y_test,y_pred)\n",
    "    medae = median_absolute_error(y_test, y_pred)\n",
    "    rmse = mean_squared_error(y_test, y_pred, squared=False)\n",
    "    mape = mean_absolute_percentage_error(y_test,y_pred)\n",
    "    max_er = max_error(y_test, y_pred)\n",
    "    outer_scores.append([mae,r2,medae,mape, rmse, max_er])\n",
    "\n",
    "    perm_result_2 = permutation_importance(best_model_2, X_test, y_test, n_repeats=5, scoring='neg_mean_absolute_error')\n",
    "\n",
    "     # Append mean and std of each run to the DataFrame for the current outer fold\n",
    "    df_perm_importance_2[f'mean_run_{i}'] = perm_result_2.importances_mean\n",
    "    df_perm_importance_2[f'std_run_{i}'] = perm_result_2.importances_std\n",
    "\n",
    "    y_pred_all.append([y_test,y_pred])\n",
    "\n",
    "\n",
    "# Calculate average of means across each row\n",
    "df_perm_importance_2['final_mean'] = df_perm_importance_2.filter(regex=r'^mean_run_\\d+$').mean(axis=1)\n",
    "\n",
    "# Calculate average of standard deviations across each row\n",
    "df_perm_importance_2['final_sd'] = np.sqrt(df_perm_importance_2.filter(regex=r'^std_run_\\d+$').pow(2).mean(axis=1))\n",
    "\n",
    "# Concatenate the inner_results DataFrames\n",
    "inner_results_df_2 = pd.concat(inner_results_2)\n",
    "\n",
    "column_names = ['MAE', 'R2', 'MedAE', 'MAPE', 'RMSE', 'Max Error']\n",
    "outer_scores_df = pd.DataFrame(outer_scores, columns=column_names)\n",
    "print(\"development done\")\n",
    "\n",
    "mae_values = [score[0] for score in outer_scores]\n",
    "r2_values = [score[1] for score in outer_scores]\n",
    "medae_values= [score[2] for score in outer_scores]\n",
    "mape_values= [score[3] for score in outer_scores]\n",
    "rmse_values= [score[4] for score in outer_scores]\n",
    "maxerror_values= [score[5] for score in outer_scores]\n",
    "\n",
    "mae_mean = np.mean(mae_values)\n",
    "mae_std = np.std(mae_values)\n",
    "\n",
    "r2_mean = np.mean(r2_values)\n",
    "r2_std = np.std(r2_values)\n",
    "\n",
    "medae_mean = np.mean(medae_values)\n",
    "medae_std = np.std(medae_values)\n",
    "\n",
    "mape_mean = np.mean(mape_values)\n",
    "mape_std = np.std(mape_values)\n",
    "\n",
    "rmse_mean = np.mean(rmse_values)\n",
    "rmse_std = np.std(rmse_values)\n",
    "\n",
    "maxerror_mean = np.mean(maxerror_values)\n",
    "maxerror_std = np.std(maxerror_values)\n",
    "\n",
    "mae_mean = round(mae_mean, 4)\n",
    "mae_std = round(mae_std, 4)\n",
    "r2_mean = round(r2_mean, 4)\n",
    "r2_std = round(r2_std, 4)\n",
    "\n",
    "medae_mean = round(medae_mean, 4)\n",
    "medae_std = round(medae_std, 4)\n",
    "\n",
    "mape_mean = round(mape_mean, 4)\n",
    "mape_std = round(mape_std, 4)\n",
    "\n",
    "rmse_mean = round(rmse_mean, 4)\n",
    "rmse_std = round(rmse_std, 4)\n",
    "\n",
    "maxerror_mean = round(maxerror_mean, 4)\n",
    "maxerror_std = round(maxerror_std, 4)\n",
    "\n",
    "cv_averaged = {\n",
    "    'Metric': ['MAE', 'R2', 'MedAE', 'MAPE', 'RMSE', 'Max Error'],\n",
    "    'Mean': [mae_mean, r2_mean, medae_mean, mape_mean, rmse_mean, maxerror_mean],\n",
    "    'Standard Deviation': [mae_std, r2_std, medae_std, mape_std, rmse_std, maxerror_std],\n",
    "}\n",
    "\n",
    "final_cv_scores = pd.DataFrame(cv_averaged)\n",
    "\n",
    "\n",
    "print(\"MAE Mean:\", mae_mean)\n",
    "print(\"MAE Standard Deviation:\", mae_std)\n",
    "print(\"R2 Mean:\", r2_mean)\n",
    "print(\"R2 Standard Deviation:\", r2_std)\n",
    "\n",
    "import os\n",
    "from datetime import datetime\n",
    "\n",
    "# Create a folder in the current directory\n",
    "folder_name = \"MII\"\n",
    "os.makedirs(folder_name, exist_ok=True)\n",
    "model_name = \"MII_MULTI_VAR_E2\"\n",
    "# Get the current date in UK date format (DD-MM-YYYY)\n",
    "current_date = datetime.now().strftime(\"%d-%m-%Y %H-%M\")\n",
    "\n",
    "\n",
    "file_name = f\"{current_date}_HGBR_{model_name}_BestParams2.csv\"\n",
    "csv_file_path = os.path.join(folder_name, file_name)\n",
    "best_params_list_2.to_csv(csv_file_path)\n",
    "\n",
    "\n",
    "file_name = f\"{current_date}_HGBR_{model_name}_InnerRuns2.csv\"\n",
    "csv_file_path = os.path.join(folder_name, file_name)\n",
    "inner_results_df_2.to_csv(csv_file_path)\n",
    "\n",
    "file_name = f\"{current_date}_HGBR_{model_name}_Importances2.csv\"\n",
    "\n",
    "csv_file_path = os.path.join(folder_name, file_name)\n",
    "df_perm_importance_2.to_csv(csv_file_path)\n",
    "\n",
    "\n",
    "file_name = f\"{current_date}_HGBR_{model_name}_OuterScores.csv\"\n",
    "csv_file_path = os.path.join(folder_name, file_name)\n",
    "outer_scores_df.to_csv(csv_file_path)\n",
    "print(\"Files saved to:\", folder_name)\n",
    "\n",
    "file_name = f\"{current_date}_HGBR_{model_name}_Metrics.csv\"\n",
    "csv_file_path = os.path.join(folder_name, file_name)\n",
    "final_cv_scores.to_csv(csv_file_path)"
   ],
   "metadata": {
    "collapsed": false,
    "ExecuteTime": {
     "start_time": "2024-06-12T22:11:51.114226Z",
     "end_time": "2024-06-12T22:32:32.954905Z"
    }
   }
  }
 ],
 "metadata": {
  "colab": {
   "provenance": []
  },
  "kernelspec": {
   "display_name": "Python 3 (ipykernel)",
   "language": "python",
   "name": "python3"
  },
  "language_info": {
   "codemirror_mode": {
    "name": "ipython",
    "version": 3
   },
   "file_extension": ".py",
   "mimetype": "text/x-python",
   "name": "python",
   "nbconvert_exporter": "python",
   "pygments_lexer": "ipython3",
   "version": "3.11.3"
  }
 },
 "nbformat": 4,
 "nbformat_minor": 1
}
