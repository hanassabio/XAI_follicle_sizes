{
 "cells": [
  {
   "cell_type": "code",
   "execution_count": 1,
   "outputs": [],
   "source": [
    "import pandas as pd\n",
    "import numpy as np\n",
    "np.int = int\n",
    "np.bool = bool\n",
    "from datetime import datetime, timedelta\n",
    "from sklearn.model_selection import train_test_split\n",
    "from sklearn.inspection import permutation_importance\n",
    "from sklearn.ensemble import HistGradientBoostingRegressor\n",
    "from skopt import BayesSearchCV\n",
    "import gc\n",
    "from sklearn.metrics import mean_absolute_error, max_error, mean_absolute_percentage_error, mean_squared_error, r2_score, median_absolute_error\n",
    "from skopt import BayesSearchCV\n",
    "from sklearn.model_selection import LeaveOneGroupOut"
   ],
   "metadata": {
    "collapsed": false
   }
  },
  {
   "cell_type": "code",
   "execution_count": 2,
   "outputs": [
    {
     "name": "stdout",
     "output_type": "stream",
     "text": [
      "(550, 135)\n"
     ]
    }
   ],
   "source": [
    "\n",
    "scans=pd.read_excel(\"../dummy_data.xlsx\")\n",
    "print(scans.shape)"
   ],
   "metadata": {
    "collapsed": false
   }
  },
  {
   "cell_type": "code",
   "execution_count": 3,
   "outputs": [],
   "source": [
    "carbon = scans.copy()\n",
    "carbon['protocol_map'] = carbon['protocol_map'].str.upper()"
   ],
   "metadata": {
    "collapsed": false
   }
  },
  {
   "cell_type": "code",
   "execution_count": 4,
   "outputs": [
    {
     "name": "stdout",
     "output_type": "stream",
     "text": [
      "(263, 135)\n"
     ]
    }
   ],
   "source": [
    "carbon = carbon[carbon['trigger_map'].isin(['HCG'])]\n",
    "mat_scans = carbon[carbon['No. Mature Eggs']>-1]\n",
    "mat_scans = mat_scans[mat_scans['Age at Egg Collection']<=35.0]\n",
    "\n",
    "print(mat_scans.shape)"
   ],
   "metadata": {
    "collapsed": false
   }
  },
  {
   "cell_type": "code",
   "execution_count": 5,
   "outputs": [
    {
     "name": "stdout",
     "output_type": "stream",
     "text": [
      "(263, 135)\n"
     ]
    }
   ],
   "source": [
    "mat_scans = mat_scans[~(pd.isna(mat_scans['DoT Follicles']))]\n",
    "print(mat_scans.shape)"
   ],
   "metadata": {
    "collapsed": false
   }
  },
  {
   "cell_type": "code",
   "execution_count": 6,
   "outputs": [
    {
     "data": {
      "text/plain": "Clinic\nUK4    28\nUK3    27\nUK9    26\nUK8    25\nUK6    24\nUK2    23\nUK7    23\nUK5    22\nP1     22\nP2     22\nUK1    21\nName: count, dtype: int64"
     },
     "execution_count": 6,
     "metadata": {},
     "output_type": "execute_result"
    }
   ],
   "source": [
    "mat_scans['Clinic'].value_counts()"
   ],
   "metadata": {
    "collapsed": false
   }
  },
  {
   "cell_type": "code",
   "execution_count": 7,
   "outputs": [],
   "source": [
    "\n",
    "#create dataset\n",
    "X = mat_scans[['6_mm', '7_mm', '8_mm', '9_mm','10_mm','11_mm','12_mm','13_mm','14_mm','15_mm','16_mm','17_mm','18_mm','19_mm','20_mm','21_mm','22_mm','23_mm','24_mm','25_mm','26_mm']]\n",
    "\n",
    "y = mat_scans[['No. Mature Eggs']]\n",
    "y=y.values.ravel()\n",
    "\n",
    "y = np.log(y+1)\n",
    "\n",
    "by_clinic = mat_scans['Clinic']\n",
    "by_clinic = by_clinic.values.ravel()"
   ],
   "metadata": {
    "collapsed": false
   }
  },
  {
   "cell_type": "code",
   "execution_count": 8,
   "outputs": [
    {
     "data": {
      "text/plain": "(263, 21)"
     },
     "execution_count": 8,
     "metadata": {},
     "output_type": "execute_result"
    }
   ],
   "source": [
    "X.shape"
   ],
   "metadata": {
    "collapsed": false
   }
  },
  {
   "cell_type": "code",
   "execution_count": 9,
   "outputs": [
    {
     "data": {
      "text/plain": "(263,)"
     },
     "execution_count": 9,
     "metadata": {},
     "output_type": "execute_result"
    }
   ],
   "source": [
    "y.shape"
   ],
   "metadata": {
    "collapsed": false
   }
  },
  {
   "cell_type": "code",
   "execution_count": 10,
   "outputs": [
    {
     "data": {
      "text/plain": "(263,)"
     },
     "execution_count": 10,
     "metadata": {},
     "output_type": "execute_result"
    }
   ],
   "source": [
    "by_clinic.shape"
   ],
   "metadata": {
    "collapsed": false
   }
  },
  {
   "cell_type": "code",
   "execution_count": 11,
   "outputs": [
    {
     "name": "stdout",
     "output_type": "stream",
     "text": [
      "(500, 21)\n",
      "(500,)\n",
      "Fitting 10 folds for each of 5 candidates, totalling 50 fits\n"
     ]
    }
   ],
   "source": [
    "\n",
    "param_grid = {\n",
    "    'max_iter': (500, 5000),\n",
    "    'learning_rate': (0.0001, 0.1),\n",
    "    'l2_regularization': (0.0, 1.0),\n",
    "    'min_samples_leaf': (5, 20),\n",
    "    'loss': ('squared_error', 'absolute_error', 'poisson')\n",
    "}\n",
    "\n",
    "outer_cv = LeaveOneGroupOut()\n",
    "outer_cv.get_n_splits(X, y, by_clinic)\n",
    "splits = outer_cv.get_n_splits(groups=by_clinic)\n",
    "\n",
    "# Initialize arrays to store the results\n",
    "outer_scores = []\n",
    "best_params_list = pd.DataFrame(index=param_grid)\n",
    "inner_results = []\n",
    "df_perm_importance = pd.DataFrame(index=X.columns)\n",
    "\n",
    "shap_values_per_fold = []\n",
    "explanation_per_fold = []\n",
    "interactions_per_fold = []\n",
    "\n",
    "pred_vals = pd.DataFrame(columns=['Clinic', 'actual', 'pred'])\n",
    "\n",
    "# Perform nested cross-validation\n",
    "for i, (train_index, test_index) in enumerate(outer_cv.split(X, y, by_clinic)):\n",
    "    # Check the indices\n",
    "    X_train, X_test = X.iloc[train_index], X.iloc[test_index]\n",
    "    y_train, y_test = y[train_index], y[test_index]\n",
    "    clinic_train, clinic_test = by_clinic[train_index], by_clinic[test_index]\n",
    "\n",
    "    rf = HistGradientBoostingRegressor()\n",
    "\n",
    "    inner_cv = LeaveOneGroupOut()\n",
    "\n",
    "    print(X_train.shape)\n",
    "    print(y_train.shape)\n",
    "\n",
    "    bayes_opt = BayesSearchCV(\n",
    "        estimator=rf,\n",
    "        search_spaces=param_grid,\n",
    "        n_iter=30,\n",
    "        n_points=5,\n",
    "        scoring='neg_mean_absolute_error',\n",
    "        cv=inner_cv,\n",
    "        n_jobs=-1,\n",
    "        refit=True,\n",
    "        verbose=1,\n",
    "        return_train_score=True\n",
    "    )\n",
    "    bayes_opt.fit(X=X_train, y=y_train, groups=clinic_train)  ##added groups here\n",
    "\n",
    "    # Get the best parameters and the corresponding model\n",
    "    best_params = bayes_opt.best_params_\n",
    "    best_model = bayes_opt.best_estimator_\n",
    "\n",
    "    # Store the best parameters\n",
    "    best_params_list[f'best_params_run_{i}'] = best_params\n",
    "    print(f\"best inner score_{i}:\", bayes_opt.best_score_)\n",
    "    # Store the results of each fold of the inner cross-validation\n",
    "    inner_results.append(pd.DataFrame(bayes_opt.cv_results_))\n",
    "\n",
    "    # Evaluate the best model on the outer test fold\n",
    "    y_pred = best_model.predict(X_test)\n",
    "\n",
    "    y_pred = np.exp(y_pred) - 1\n",
    "\n",
    "    ##same exp for y_test\n",
    "    y_test = np.exp(y_test) - 1\n",
    "\n",
    "    # Append predictions and actual values to pred_vals\n",
    "    temp_df = pd.DataFrame({'Clinic': clinic_test, 'actual': y_test, 'pred': y_pred})\n",
    "    pred_vals = pd.concat([pred_vals, temp_df], ignore_index=True)\n",
    "\n",
    "    mae = mean_absolute_error(y_test, y_pred)\n",
    "    print(f'mae_{i}', mae)\n",
    "    r2 = r2_score(y_test, y_pred)\n",
    "    medae = median_absolute_error(y_test, y_pred)\n",
    "    rmse = mean_squared_error(y_test, y_pred, squared=False)\n",
    "    mape = mean_absolute_percentage_error(y_test, y_pred)\n",
    "    max_er = max_error(y_test, y_pred)\n",
    "    outer_scores.append([mae, r2, medae, mape, rmse, max_er])\n",
    "\n",
    "    # Perform permutation importance on the outer test fold\n",
    "    perm_result = permutation_importance(best_model, X_test, y_test, n_repeats=5)\n",
    "\n",
    "    # Append mean and std of each run to the DataFrame for the current outer fold\n",
    "    df_perm_importance[f'mean_run_{i}'] = perm_result.importances_mean\n",
    "    df_perm_importance[f'std_run_{i}'] = perm_result.importances_std\n",
    "\n",
    "# Calculate average of means across each row\n",
    "df_perm_importance['final_mean'] = df_perm_importance.filter(regex=r'^mean_run_\\d+$').mean(axis=1)\n",
    "\n",
    "# Calculate average of standard deviations across each row\n",
    "df_perm_importance['final_sd'] = np.sqrt(df_perm_importance.filter(regex=r'^std_run_\\d+$').pow(2).mean(axis=1))\n",
    "\n",
    "# Concatenate the inner_results DataFrames\n",
    "inner_results_df = pd.concat(inner_results)\n",
    "\n",
    "column_names = ['MAE', 'R2', 'MedAE', 'MAPE', 'RMSE', 'Max Error']\n",
    "outer_scores_df = pd.DataFrame(outer_scores, columns=column_names)\n",
    "print(\"development done\")\n",
    "\n",
    "mae_values = [score[0] for score in outer_scores]\n",
    "r2_values = [score[1] for score in outer_scores]\n",
    "medae_values = [score[2] for score in outer_scores]\n",
    "mape_values = [score[3] for score in outer_scores]\n",
    "rmse_values = [score[4] for score in outer_scores]\n",
    "maxerror_values = [score[5] for score in outer_scores]\n",
    "\n",
    "mae_mean = np.mean(mae_values)\n",
    "mae_std = np.std(mae_values)\n",
    "\n",
    "r2_mean = np.mean(r2_values)\n",
    "r2_std = np.std(r2_values)\n",
    "\n",
    "medae_mean = np.mean(medae_values)\n",
    "medae_std = np.std(medae_values)\n",
    "\n",
    "mape_mean = np.mean(mape_values)\n",
    "mape_std = np.std(mape_values)\n",
    "\n",
    "rmse_mean = np.mean(rmse_values)\n",
    "rmse_std = np.std(rmse_values)\n",
    "\n",
    "maxerror_mean = np.mean(maxerror_values)\n",
    "maxerror_std = np.std(maxerror_values)\n",
    "\n",
    "mae_mean = round(mae_mean, 4)\n",
    "mae_std = round(mae_std, 4)\n",
    "r2_mean = round(r2_mean, 4)\n",
    "r2_std = round(r2_std, 4)\n",
    "\n",
    "medae_mean = round(medae_mean, 4)\n",
    "medae_std = round(medae_std, 4)\n",
    "\n",
    "mape_mean = round(mape_mean, 4)\n",
    "mape_std = round(mape_std, 4)\n",
    "\n",
    "rmse_mean = round(rmse_mean, 4)\n",
    "rmse_std = round(rmse_std, 4)\n",
    "\n",
    "maxerror_mean = round(maxerror_mean, 4)\n",
    "maxerror_std = round(maxerror_std, 4)\n",
    "\n",
    "cv_averaged = {\n",
    "    'Metric': ['MAE', 'R2', 'MedAE', 'MAPE', 'RMSE', 'Max Error'],\n",
    "    'Mean': [mae_mean, r2_mean, medae_mean, mape_mean, rmse_mean, maxerror_mean],\n",
    "    'Standard Deviation': [mae_std, r2_std, medae_std, mape_std, rmse_std, maxerror_std],\n",
    "}\n",
    "\n",
    "final_cv_scores = pd.DataFrame(cv_averaged)\n",
    "\n",
    "print(\"MAE Mean:\", mae_mean)\n",
    "print(\"MAE Standard Deviation:\", mae_std)\n",
    "print(\"R2 Mean:\", r2_mean)\n",
    "print(\"R2 Standard Deviation:\", r2_std)\n",
    "\n",
    "import os\n",
    "from datetime import datetime\n",
    "\n",
    "# Create a folder in the current directory\n",
    "folder_name = \"MII\"\n",
    "os.makedirs(folder_name, exist_ok=True)\n",
    "model_name = \"MII_LEQ35\"\n",
    "# Get the current date in UK date format (DD-MM-YYYY)\n",
    "current_date = datetime.now().strftime(\"%d-%m-%Y %H-%M\")\n",
    "\n",
    "# Save the DataFrames to CSV files\n",
    "csv_file_paths = {\n",
    "    \"Importances\": df_perm_importance,\n",
    "    \"Metrics\": final_cv_scores,\n",
    "    \"BestParams\": best_params_list,\n",
    "    \"InnerRuns\": inner_results_df,\n",
    "    \"OuterScores\": outer_scores_df,\n",
    "    \"Predictions\": pred_vals\n",
    "}\n",
    "\n",
    "for name, df in csv_file_paths.items():\n",
    "    file_name = f\"{current_date}_HGBR_{model_name}_{name}.csv\"\n",
    "    csv_file_path = os.path.join(folder_name, file_name)\n",
    "    df.to_csv(csv_file_path, index=False)\n",
    "\n",
    "print(\"Files saved to:\", folder_name)\n"
   ],
   "metadata": {
    "collapsed": false
   }
  }
 ],
 "metadata": {
  "colab": {
   "provenance": []
  },
  "kernelspec": {
   "display_name": "Python 3 (ipykernel)",
   "language": "python",
   "name": "python3"
  },
  "language_info": {
   "codemirror_mode": {
    "name": "ipython",
    "version": 3
   },
   "file_extension": ".py",
   "mimetype": "text/x-python",
   "name": "python",
   "nbconvert_exporter": "python",
   "pygments_lexer": "ipython3",
   "version": "3.11.3"
  }
 },
 "nbformat": 4,
 "nbformat_minor": 1
}
