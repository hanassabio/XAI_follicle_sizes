{
 "cells": [
  {
   "cell_type": "code",
   "execution_count": 1,
   "metadata": {
    "collapsed": true
   },
   "outputs": [],
   "source": [
    "import ast\n",
    "\n",
    "import pandas as pd\n",
    "import numpy as np\n",
    "import statsmodels as statsmodels\n",
    "np.int = int\n",
    "import matplotlib.pyplot as plt\n",
    "from sklearn.inspection import PartialDependenceDisplay\n",
    "from sklearn.compose import ColumnTransformer\n",
    "from sklearn.preprocessing import OneHotEncoder, StandardScaler\n",
    "from sklearn.pipeline import Pipeline\n",
    "from sklearn.linear_model import LogisticRegression\n",
    "from sklearn.utils import resample\n",
    "from sklearn.metrics import precision_score, recall_score"
   ]
  },
  {
   "cell_type": "code",
   "execution_count": 2,
   "outputs": [
    {
     "name": "stdout",
     "output_type": "stream",
     "text": [
      "(550, 138)\n"
     ]
    }
   ],
   "source": [
    "scans=pd.read_excel(\"dummy_data.xlsx\")\n",
    "print(scans.shape)"
   ],
   "metadata": {
    "collapsed": false
   }
  },
  {
   "cell_type": "code",
   "execution_count": 3,
   "outputs": [],
   "source": [
    "scans['in_range13'] = scans['13_18mm']/scans['6_26mm']\n",
    "scans['in_range15'] = scans['15_18mm']/scans['6_26mm']"
   ],
   "metadata": {
    "collapsed": false
   }
  },
  {
   "cell_type": "code",
   "execution_count": 4,
   "outputs": [],
   "source": [
    "carbon = scans.copy()"
   ],
   "metadata": {
    "collapsed": false
   }
  },
  {
   "cell_type": "code",
   "execution_count": 5,
   "outputs": [],
   "source": [
    "#clear missing data\n",
    "carbon['Age at Egg Collection'] = carbon['Age at Egg Collection'].replace(-100, np.nan)\n",
    "carbon['Age at Egg Collection'] = round(carbon['Age at Egg Collection'],0)\n",
    "carbon['BMI'] = np.where((carbon['BMI'] < 18) | (carbon['BMI'] > 50), np.nan, carbon['BMI'])\n",
    "carbon['trigger_map'] = carbon['trigger_map'].replace('NONE', np.nan)\n",
    "carbon['protocol_map'] = carbon['protocol_map'].replace('NONE', np.nan)"
   ],
   "metadata": {
    "collapsed": false
   }
  },
  {
   "cell_type": "code",
   "execution_count": 6,
   "outputs": [],
   "source": [
    "X = carbon[['Age at Egg Collection', 'in_range13', 'trigger_map', '6_26mm','live_birth']].copy()\n",
    "\n",
    "X = X.dropna()\n",
    "y = X['live_birth'].copy()"
   ],
   "metadata": {
    "collapsed": false
   }
  },
  {
   "cell_type": "code",
   "execution_count": 7,
   "outputs": [
    {
     "data": {
      "text/plain": "(550,)"
     },
     "execution_count": 7,
     "metadata": {},
     "output_type": "execute_result"
    }
   ],
   "source": [
    "X.shape\n",
    "y.shape"
   ],
   "metadata": {
    "collapsed": false
   }
  },
  {
   "cell_type": "code",
   "execution_count": 8,
   "outputs": [],
   "source": [
    "\n",
    "\n",
    "# Assuming X is your dataframe\n",
    "numerical_features = ['Age at Egg Collection', '6_26mm', 'in_range13']\n",
    "categorical_features = ['trigger_map']\n",
    "\n",
    "# Create transformers for numerical and categorical features\n",
    "numeric_transformer = Pipeline(steps=[\n",
    "    ('scaler', StandardScaler())\n",
    "])\n",
    "\n",
    "categorical_transformer = Pipeline(steps=[\n",
    "    ('onehot', OneHotEncoder(handle_unknown='ignore'))\n",
    "])\n",
    "\n",
    "# Use ColumnTransformer to apply transformers to the correct columns\n",
    "preprocessor = ColumnTransformer(\n",
    "    transformers=[\n",
    "        ('num', numeric_transformer, numerical_features),\n",
    "        ('cat', categorical_transformer, categorical_features)\n",
    "    ])\n",
    "\n",
    "# Create the Logistic Regression model\n",
    "clf = Pipeline(steps=[('preprocessor', preprocessor),\n",
    "                        ('classifier', LogisticRegression())])\n"
   ],
   "metadata": {
    "collapsed": false
   }
  },
  {
   "cell_type": "code",
   "execution_count": 115,
   "outputs": [
    {
     "name": "stdout",
     "output_type": "stream",
     "text": [
      "0.6885096007314843\n"
     ]
    }
   ],
   "source": [
    "\n",
    "lr_model = clf.fit(X, y)\n",
    "print(lr_model.score(X,y))\n",
    "\n"
   ],
   "metadata": {
    "collapsed": false
   }
  },
  {
   "cell_type": "code",
   "execution_count": 117,
   "outputs": [
    {
     "name": "stdout",
     "output_type": "stream",
     "text": [
      "0.4170403587443946\n",
      "0.03070320237702212\n"
     ]
    }
   ],
   "source": [
    "\n",
    "y_pred = lr_model.predict(X)\n",
    "print(precision_score(y, y_pred))\n",
    "print(recall_score(y, y_pred))\n"
   ],
   "metadata": {
    "collapsed": false
   }
  },
  {
   "cell_type": "code",
   "execution_count": 116,
   "outputs": [
    {
     "name": "stdout",
     "output_type": "stream",
     "text": [
      "[[-0.34057423  0.10598223 -0.08386985 -0.12797105  0.12786128]]\n",
      "[-0.95281978]\n"
     ]
    }
   ],
   "source": [
    "print(lr_model.named_steps['classifier'].coef_)\n",
    "print(lr_model.named_steps['classifier'].intercept_)"
   ],
   "metadata": {
    "collapsed": false
   }
  },
  {
   "cell_type": "code",
   "execution_count": 49,
   "outputs": [],
   "source": [
    "nox_values = np.linspace(np.min(X['in_range13']), np.max(X['in_range13']))\n",
    "\n",
    "pdp_values = []\n",
    "for n in nox_values:\n",
    "  X_pdp = X.copy()\n",
    "  X_pdp['in_range13'] = n\n",
    "\n",
    "  pdp_values.append(np.mean(lr_model.predict_proba(X_pdp)[:,1]))\n",
    "\n",
    "n_bootstrap = 100\n",
    "\n",
    "nox_values = np.linspace(np.min(X['in_range13']), np.max(X['in_range13']))\n",
    "\n",
    "expected_value_bootstrap_replications = []\n",
    "\n",
    "for _ in range(n_bootstrap):\n",
    "    X_boot, y_boot = resample(X,y)\n",
    "\n",
    "    lr_model_boot = clf.fit(X_boot, y_boot)\n",
    "\n",
    "    bootstrap_model_predictions = []\n",
    "    for n in nox_values:\n",
    "        X_pdp = X_boot.copy()\n",
    "        X_pdp['in_range13'] = n\n",
    "        bootstrap_model_predictions.append(np.mean(lr_model_boot.predict_proba(X_pdp)[:,1]))\n",
    "    expected_value_bootstrap_replications.append(bootstrap_model_predictions)\n",
    "\n",
    "expected_value_bootstrap_replications = np.array(expected_value_bootstrap_replications)\n",
    "\n",
    "prediction_se = np.std(expected_value_bootstrap_replications, axis=0)"
   ],
   "metadata": {
    "collapsed": false
   }
  },
  {
   "cell_type": "code",
   "execution_count": 121,
   "outputs": [],
   "source": [
    "pdp_values_np = np.array(pdp_values)\n",
    "df = pd.DataFrame([nox_values*1, pdp_values_np, (pdp_values_np + prediction_se*3), (pdp_values_np - prediction_se*3)])\n",
    "df.to_csv(\"PDP_inrange13.csv\")"
   ],
   "metadata": {
    "collapsed": false
   }
  }
 ],
 "metadata": {
  "kernelspec": {
   "display_name": "Python 3",
   "language": "python",
   "name": "python3"
  },
  "language_info": {
   "codemirror_mode": {
    "name": "ipython",
    "version": 2
   },
   "file_extension": ".py",
   "mimetype": "text/x-python",
   "name": "python",
   "nbconvert_exporter": "python",
   "pygments_lexer": "ipython2",
   "version": "2.7.6"
  }
 },
 "nbformat": 4,
 "nbformat_minor": 0
}
